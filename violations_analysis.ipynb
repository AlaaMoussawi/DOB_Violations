{
 "cells": [
  {
   "cell_type": "code",
   "execution_count": 1,
   "metadata": {},
   "outputs": [],
   "source": [
    "import numpy as np\n",
    "import pandas as pd\n",
    "\n",
    "import matplotlib.pyplot as plt\n",
    "import seaborn as sns\n",
    "plt.style.use('ggplot')\n",
    "\n",
    "%load_ext autotime\n",
    "%matplotlib inline\n",
    "pd.options.display.max_colwidth = -1"
   ]
  },
  {
   "cell_type": "code",
   "execution_count": 2,
   "metadata": {
    "scrolled": true
   },
   "outputs": [
    {
     "name": "stderr",
     "output_type": "stream",
     "text": [
      "/usr/local/lib/python3.6/dist-packages/IPython/core/interactiveshell.py:2785: DtypeWarning: Columns (1,3,5) have mixed types. Specify dtype option on import or set low_memory=False.\n",
      "  interactivity=interactivity, compiler=compiler, result=result)\n"
     ]
    },
    {
     "name": "stdout",
     "output_type": "stream",
     "text": [
      "time: 13 s\n"
     ]
    }
   ],
   "source": [
    "data = pd.read_csv('DOB_violations.csv')"
   ]
  },
  {
   "cell_type": "code",
   "execution_count": 3,
   "metadata": {},
   "outputs": [
    {
     "name": "stdout",
     "output_type": "stream",
     "text": [
      "time: 8.52 s\n"
     ]
    }
   ],
   "source": [
    "# Getting dates into datetime format\n",
    "\n",
    "new_date = []\n",
    "for i in data['ISSUE_DATE']:\n",
    "    if len(str(i)) == 8:\n",
    "        i = str(i)\n",
    "        new_date.append(i[:4]+'-'+i[4:6]+'-'+i[6:])\n",
    "    else:\n",
    "        new_date.append(i)\n",
    "\n",
    "data['ISSUE_DATE'] = pd.to_datetime(new_date, errors = 'coerce')\n",
    "data.sort_values(by = 'ISSUE_DATE', inplace = True)\n",
    "\n",
    "data.dropna(subset = ['ISSUE_DATE'], inplace=True)\n",
    "# Get rid of dates in the future And those we know are incorrect of the past."
   ]
  },
  {
   "cell_type": "code",
   "execution_count": 4,
   "metadata": {
    "scrolled": true
   },
   "outputs": [
    {
     "data": {
      "text/plain": [
       "767416"
      ]
     },
     "execution_count": 4,
     "metadata": {},
     "output_type": "execute_result"
    },
    {
     "name": "stdout",
     "output_type": "stream",
     "text": [
      "time: 1.62 s\n"
     ]
    }
   ],
   "source": [
    "len(data[data['VIOLATION_TYPE'].str.contains('BOILER') == True])"
   ]
  },
  {
   "cell_type": "code",
   "execution_count": 7,
   "metadata": {},
   "outputs": [
    {
     "name": "stdout",
     "output_type": "stream",
     "text": [
      "time: 2.44 ms\n"
     ]
    }
   ],
   "source": [
    "import os\n",
    "os.environ['NYC_GEOCLIENT_ID'] = '95848ec3'\n",
    "os.environ['NYC_GEOCLIENT_KEY'] = '176937e4a1d4fa8c837418b280601232'"
   ]
  },
  {
   "cell_type": "code",
   "execution_count": 8,
   "metadata": {},
   "outputs": [
    {
     "name": "stdout",
     "output_type": "stream",
     "text": [
      "time: 345 ms\n"
     ]
    }
   ],
   "source": [
    "os.chdir(\"/home/ubuntu-admin/Toolkit\")\n",
    "\n",
    "from BBL_TO_LAT_LON import get_lat_lon_from_bin, get_lat_lon_from_bin_array"
   ]
  },
  {
   "cell_type": "code",
   "execution_count": 13,
   "metadata": {
    "scrolled": true
   },
   "outputs": [
    {
     "name": "stdout",
     "output_type": "stream",
     "text": [
      "time: 1min 23s\n"
     ]
    }
   ],
   "source": [
    "test = get_lat_lon_from_bin_array(list(data['BIN'])[:1000])\n",
    "# get_lat_lon_from_bin(list(data['BIN'])[0])"
   ]
  },
  {
   "cell_type": "code",
   "execution_count": null,
   "metadata": {
    "scrolled": true
   },
   "outputs": [],
   "source": [
    "# loc = get_lat_lon_from_bin_array(data['BIN'].to_list())\n",
    "# list(data['BIN'].astype(int))\n",
    "data['BIN'] = data['BIN'].apply(lambda x: str(x)[:-2])"
   ]
  }
 ],
 "metadata": {
  "kernelspec": {
   "display_name": "Python 3",
   "language": "python",
   "name": "python3"
  },
  "language_info": {
   "codemirror_mode": {
    "name": "ipython",
    "version": 3
   },
   "file_extension": ".py",
   "mimetype": "text/x-python",
   "name": "python",
   "nbconvert_exporter": "python",
   "pygments_lexer": "ipython3",
   "version": "3.6.6"
  }
 },
 "nbformat": 4,
 "nbformat_minor": 2
}
